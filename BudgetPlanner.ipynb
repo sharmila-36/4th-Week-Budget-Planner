{
 "cells": [
  {
   "cell_type": "code",
   "execution_count": 3,
   "id": "9a709ff1-35b7-4fa7-9ce4-eef14e3cbc50",
   "metadata": {},
   "outputs": [
    {
     "name": "stdout",
     "output_type": "stream",
     "text": [
      "Welcome to the Expense Sharing App\n",
      "\n",
      "Menu:\n",
      "1. Add Expense\n",
      "2. Show Balances\n",
      "3. Exit\n"
     ]
    },
    {
     "name": "stdin",
     "output_type": "stream",
     "text": [
      "Choose an option (1/2/3):  1\n",
      "Enter the name of the person who paid:  sha\n",
      "Enter the amount paid:  120\n",
      "Enter the names of participants (comma-separated):  sha,mila,vana\n"
     ]
    },
    {
     "name": "stdout",
     "output_type": "stream",
     "text": [
      "Expense added successfully!\n",
      "\n",
      "Menu:\n",
      "1. Add Expense\n",
      "2. Show Balances\n",
      "3. Exit\n"
     ]
    },
    {
     "name": "stdin",
     "output_type": "stream",
     "text": [
      "Choose an option (1/2/3):  2\n"
     ]
    },
    {
     "name": "stdout",
     "output_type": "stream",
     "text": [
      "\n",
      "Current Balances:\n",
      "sha should receive 80.00\n",
      "mila owes 40.00\n",
      "vana owes 40.00\n",
      "\n",
      "Menu:\n",
      "1. Add Expense\n",
      "2. Show Balances\n",
      "3. Exit\n"
     ]
    },
    {
     "name": "stdin",
     "output_type": "stream",
     "text": [
      "Choose an option (1/2/3):  3\n"
     ]
    },
    {
     "name": "stdout",
     "output_type": "stream",
     "text": [
      "Thank you for using the Expense Sharing App!\n"
     ]
    }
   ],
   "source": [
    "class ExpenseSharingApp:\n",
    "    def __init__(self):\n",
    "        self.expenses = {}\n",
    "        self.balances = {}\n",
    "\n",
    "    def add_expense(self, payer, amount, participants):\n",
    "        amount_per_person = amount / len(participants)\n",
    "        \n",
    "        if payer not in self.balances:\n",
    "            self.balances[payer] = 0\n",
    "        self.balances[payer] += amount - amount_per_person\n",
    "\n",
    "        for participant in participants:\n",
    "            if participant != payer:\n",
    "                if participant not in self.balances:\n",
    "                    self.balances[participant] = 0\n",
    "                self.balances[participant] -= amount_per_person\n",
    "\n",
    "    def show_balances(self):\n",
    "        print(\"\\nCurrent Balances:\")\n",
    "        for person, balance in self.balances.items():\n",
    "            if balance > 0:\n",
    "                print(f\"{person} should receive {abs(balance):.2f}\")\n",
    "            elif balance < 0:\n",
    "                print(f\"{person} owes {abs(balance):.2f}\")\n",
    "            else:\n",
    "                print(f\"{person} is settled up\")\n",
    "\n",
    "    def run(self):\n",
    "        print(\"Welcome to the Expense Sharing App\")\n",
    "        while True:\n",
    "            print(\"\\nMenu:\")\n",
    "            print(\"1. Add Expense\")\n",
    "            print(\"2. Show Balances\")\n",
    "            print(\"3. Exit\")\n",
    "\n",
    "            choice = input(\"Choose an option (1/2/3): \")\n",
    "\n",
    "            if choice == '1':\n",
    "                payer = input(\"Enter the name of the person who paid: \")\n",
    "                amount = float(input(\"Enter the amount paid: \"))\n",
    "                participants = input(\"Enter the names of participants (comma-separated): \").split(\",\")\n",
    "                participants = [p.strip() for p in participants]\n",
    "                self.add_expense(payer, amount, participants)\n",
    "                print(\"Expense added successfully!\")\n",
    "\n",
    "            elif choice == '2':\n",
    "                self.show_balances()\n",
    "\n",
    "            elif choice == '3':\n",
    "                print(\"Thank you for using the Expense Sharing App!\")\n",
    "                break\n",
    "\n",
    "            else:\n",
    "                print(\"Invalid option. Please try again.\")\n",
    "\n",
    "# Run the app\n",
    "if __name__ == \"__main__\":\n",
    "    app = ExpenseSharingApp()\n",
    "    app.run()\n"
   ]
  },
  {
   "cell_type": "code",
   "execution_count": 5,
   "id": "0c9f2e86-881f-4bfc-a828-339fd51fbef8",
   "metadata": {},
   "outputs": [
    {
     "name": "stdout",
     "output_type": "stream",
     "text": [
      "\n",
      "Menu:\n",
      "1. Add Task\n",
      "2. Delete Task\n",
      "3. View Tasks\n",
      "4. Exit\n"
     ]
    },
    {
     "name": "stdin",
     "output_type": "stream",
     "text": [
      "Choose an option (1/2/3/4):  1\n",
      "Enter the task:  AI ASSIGNMENT\n"
     ]
    },
    {
     "name": "stdout",
     "output_type": "stream",
     "text": [
      "Task \"AI ASSIGNMENT\" added to the list.\n",
      "\n",
      "Menu:\n",
      "1. Add Task\n",
      "2. Delete Task\n",
      "3. View Tasks\n",
      "4. Exit\n"
     ]
    },
    {
     "name": "stdin",
     "output_type": "stream",
     "text": [
      "Choose an option (1/2/3/4):  1\n",
      "Enter the task:  TEST ON TOC\n"
     ]
    },
    {
     "name": "stdout",
     "output_type": "stream",
     "text": [
      "Task \"TEST ON TOC\" added to the list.\n",
      "\n",
      "Menu:\n",
      "1. Add Task\n",
      "2. Delete Task\n",
      "3. View Tasks\n",
      "4. Exit\n"
     ]
    },
    {
     "name": "stdin",
     "output_type": "stream",
     "text": [
      "Choose an option (1/2/3/4):  1\n",
      "Enter the task:  PROJECT SUBMISSION ON DATA MINING\n"
     ]
    },
    {
     "name": "stdout",
     "output_type": "stream",
     "text": [
      "Task \"PROJECT SUBMISSION ON DATA MINING\" added to the list.\n",
      "\n",
      "Menu:\n",
      "1. Add Task\n",
      "2. Delete Task\n",
      "3. View Tasks\n",
      "4. Exit\n"
     ]
    },
    {
     "name": "stdin",
     "output_type": "stream",
     "text": [
      "Choose an option (1/2/3/4):  3\n"
     ]
    },
    {
     "name": "stdout",
     "output_type": "stream",
     "text": [
      "\n",
      "Your Tasks:\n",
      "1. AI ASSIGNMENT\n",
      "2. TEST ON TOC\n",
      "3. PROJECT SUBMISSION ON DATA MINING\n",
      "\n",
      "\n",
      "Menu:\n",
      "1. Add Task\n",
      "2. Delete Task\n",
      "3. View Tasks\n",
      "4. Exit\n"
     ]
    },
    {
     "name": "stdin",
     "output_type": "stream",
     "text": [
      "Choose an option (1/2/3/4):  2\n"
     ]
    },
    {
     "name": "stdout",
     "output_type": "stream",
     "text": [
      "\n",
      "Your Tasks:\n",
      "1. AI ASSIGNMENT\n",
      "2. TEST ON TOC\n",
      "3. PROJECT SUBMISSION ON DATA MINING\n",
      "\n"
     ]
    },
    {
     "name": "stdin",
     "output_type": "stream",
     "text": [
      "Enter the task number to delete:  2\n"
     ]
    },
    {
     "name": "stdout",
     "output_type": "stream",
     "text": [
      "Task \"TEST ON TOC\" removed from the list.\n",
      "\n",
      "Menu:\n",
      "1. Add Task\n",
      "2. Delete Task\n",
      "3. View Tasks\n",
      "4. Exit\n"
     ]
    },
    {
     "name": "stdin",
     "output_type": "stream",
     "text": [
      "Choose an option (1/2/3/4):  3\n"
     ]
    },
    {
     "name": "stdout",
     "output_type": "stream",
     "text": [
      "\n",
      "Your Tasks:\n",
      "1. AI ASSIGNMENT\n",
      "2. PROJECT SUBMISSION ON DATA MINING\n",
      "\n",
      "\n",
      "Menu:\n",
      "1. Add Task\n",
      "2. Delete Task\n",
      "3. View Tasks\n",
      "4. Exit\n"
     ]
    },
    {
     "name": "stdin",
     "output_type": "stream",
     "text": [
      "Choose an option (1/2/3/4):  4\n"
     ]
    },
    {
     "name": "stdout",
     "output_type": "stream",
     "text": [
      "Exiting the To-Do List application.\n"
     ]
    }
   ],
   "source": [
    "class ToDoList:\n",
    "    def __init__(self):\n",
    "        self.tasks = []\n",
    "\n",
    "    def add_task(self, task):\n",
    "        self.tasks.append(task)\n",
    "        print(f'Task \"{task}\" added to the list.')\n",
    "\n",
    "    def delete_task(self, task_number):\n",
    "        if 0 < task_number <= len(self.tasks):\n",
    "            removed_task = self.tasks.pop(task_number - 1)\n",
    "            print(f'Task \"{removed_task}\" removed from the list.')\n",
    "        else:\n",
    "            print(\"Invalid task number.\")\n",
    "\n",
    "    def view_tasks(self):\n",
    "        if not self.tasks:\n",
    "            print(\"Your task list is empty.\")\n",
    "        else:\n",
    "            print(\"\\nYour Tasks:\")\n",
    "            for idx, task in enumerate(self.tasks, start=1):\n",
    "                print(f\"{idx}. {task}\")\n",
    "        print()\n",
    "\n",
    "    def run(self):\n",
    "        while True:\n",
    "            print(\"\\nMenu:\")\n",
    "            print(\"1. Add Task\")\n",
    "            print(\"2. Delete Task\")\n",
    "            print(\"3. View Tasks\")\n",
    "            print(\"4. Exit\")\n",
    "\n",
    "            choice = input(\"Choose an option (1/2/3/4): \")\n",
    "\n",
    "            if choice == '1':\n",
    "                task = input(\"Enter the task: \")\n",
    "                self.add_task(task)\n",
    "\n",
    "            elif choice == '2':\n",
    "                self.view_tasks()\n",
    "                try:\n",
    "                    task_number = int(input(\"Enter the task number to delete: \"))\n",
    "                    self.delete_task(task_number)\n",
    "                except ValueError:\n",
    "                    print(\"Please enter a valid number.\")\n",
    "\n",
    "            elif choice == '3':\n",
    "                self.view_tasks()\n",
    "\n",
    "            elif choice == '4':\n",
    "                print(\"Exiting the To-Do List application.\")\n",
    "                break\n",
    "\n",
    "            else:\n",
    "                print(\"Invalid option. Please try again.\")\n",
    "\n",
    "# Run the To-Do List application\n",
    "if __name__ == \"__main__\":\n",
    "    todo_list = ToDoList()\n",
    "    todo_list.run()\n"
   ]
  },
  {
   "cell_type": "code",
   "execution_count": 7,
   "id": "f33d40d7-3fd2-4406-95de-5dbba7aece0a",
   "metadata": {},
   "outputs": [
    {
     "name": "stdout",
     "output_type": "stream",
     "text": [
      "\n",
      "Menu:\n",
      "1. Add Income\n",
      "2. Add Expense\n",
      "3. View Expenses\n",
      "4. View Budget\n",
      "5. Exit\n"
     ]
    },
    {
     "name": "stdin",
     "output_type": "stream",
     "text": [
      "Choose an option (1/2/3/4/5):  1\n",
      "Enter income amount:  50000\n"
     ]
    },
    {
     "name": "stdout",
     "output_type": "stream",
     "text": [
      "Income of 50000.0 added. Total income: 50000.0\n",
      "\n",
      "Menu:\n",
      "1. Add Income\n",
      "2. Add Expense\n",
      "3. View Expenses\n",
      "4. View Budget\n",
      "5. Exit\n"
     ]
    },
    {
     "name": "stdin",
     "output_type": "stream",
     "text": [
      "Choose an option (1/2/3/4/5):  2\n",
      "Enter the name of the expense:  shopping\n",
      "Enter the amount for shopping:  4000\n"
     ]
    },
    {
     "name": "stdout",
     "output_type": "stream",
     "text": [
      "Expense 'shopping' of 4000.0 added.\n",
      "\n",
      "Menu:\n",
      "1. Add Income\n",
      "2. Add Expense\n",
      "3. View Expenses\n",
      "4. View Budget\n",
      "5. Exit\n"
     ]
    },
    {
     "name": "stdin",
     "output_type": "stream",
     "text": [
      "Choose an option (1/2/3/4/5):  2\n",
      "Enter the name of the expense:  food\n",
      "Enter the amount for food:  2000\n"
     ]
    },
    {
     "name": "stdout",
     "output_type": "stream",
     "text": [
      "Expense 'food' of 2000.0 added.\n",
      "\n",
      "Menu:\n",
      "1. Add Income\n",
      "2. Add Expense\n",
      "3. View Expenses\n",
      "4. View Budget\n",
      "5. Exit\n"
     ]
    },
    {
     "name": "stdin",
     "output_type": "stream",
     "text": [
      "Choose an option (1/2/3/4/5):  2\n",
      "Enter the name of the expense:  day out\n",
      "Enter the amount for day out:  3000\n"
     ]
    },
    {
     "name": "stdout",
     "output_type": "stream",
     "text": [
      "Expense 'day out' of 3000.0 added.\n",
      "\n",
      "Menu:\n",
      "1. Add Income\n",
      "2. Add Expense\n",
      "3. View Expenses\n",
      "4. View Budget\n",
      "5. Exit\n"
     ]
    },
    {
     "name": "stdin",
     "output_type": "stream",
     "text": [
      "Choose an option (1/2/3/4/5):  3\n"
     ]
    },
    {
     "name": "stdout",
     "output_type": "stream",
     "text": [
      "\n",
      "Expenses:\n",
      "shopping: 4000.0\n",
      "food: 2000.0\n",
      "day out: 3000.0\n",
      "\n",
      "\n",
      "Menu:\n",
      "1. Add Income\n",
      "2. Add Expense\n",
      "3. View Expenses\n",
      "4. View Budget\n",
      "5. Exit\n"
     ]
    },
    {
     "name": "stdin",
     "output_type": "stream",
     "text": [
      "Choose an option (1/2/3/4/5):  4\n"
     ]
    },
    {
     "name": "stdout",
     "output_type": "stream",
     "text": [
      "\n",
      "Total Income: 50000.0\n",
      "Total Expenses: 9000.0\n",
      "Remaining Budget: 41000.0\n",
      "\n",
      "\n",
      "Menu:\n",
      "1. Add Income\n",
      "2. Add Expense\n",
      "3. View Expenses\n",
      "4. View Budget\n",
      "5. Exit\n"
     ]
    },
    {
     "name": "stdin",
     "output_type": "stream",
     "text": [
      "Choose an option (1/2/3/4/5):  5\n"
     ]
    },
    {
     "name": "stdout",
     "output_type": "stream",
     "text": [
      "Exiting the Budget Planner application.\n"
     ]
    }
   ],
   "source": [
    "class BudgetPlanner:\n",
    "    def __init__(self):\n",
    "        self.income = 0.0\n",
    "        self.expenses = {}\n",
    "\n",
    "    def add_income(self, amount):\n",
    "        self.income += amount\n",
    "        print(f\"Income of {amount} added. Total income: {self.income}\")\n",
    "\n",
    "    def add_expense(self, name, amount):\n",
    "        if name in self.expenses:\n",
    "            self.expenses[name] += amount\n",
    "        else:\n",
    "            self.expenses[name] = amount\n",
    "        print(f\"Expense '{name}' of {amount} added.\")\n",
    "\n",
    "    def view_expenses(self):\n",
    "        if not self.expenses:\n",
    "            print(\"No expenses recorded yet.\")\n",
    "        else:\n",
    "            print(\"\\nExpenses:\")\n",
    "            for name, amount in self.expenses.items():\n",
    "                print(f\"{name}: {amount}\")\n",
    "            print()\n",
    "\n",
    "    def view_budget(self):\n",
    "        total_expenses = sum(self.expenses.values())\n",
    "        remaining_budget = self.income - total_expenses\n",
    "        print(f\"\\nTotal Income: {self.income}\")\n",
    "        print(f\"Total Expenses: {total_expenses}\")\n",
    "        print(f\"Remaining Budget: {remaining_budget}\\n\")\n",
    "\n",
    "    def run(self):\n",
    "        while True:\n",
    "            print(\"\\nMenu:\")\n",
    "            print(\"1. Add Income\")\n",
    "            print(\"2. Add Expense\")\n",
    "            print(\"3. View Expenses\")\n",
    "            print(\"4. View Budget\")\n",
    "            print(\"5. Exit\")\n",
    "\n",
    "            choice = input(\"Choose an option (1/2/3/4/5): \")\n",
    "\n",
    "            if choice == '1':\n",
    "                try:\n",
    "                    amount = float(input(\"Enter income amount: \"))\n",
    "                    self.add_income(amount)\n",
    "                except ValueError:\n",
    "                    print(\"Please enter a valid number.\")\n",
    "\n",
    "            elif choice == '2':\n",
    "                name = input(\"Enter the name of the expense: \")\n",
    "                try:\n",
    "                    amount = float(input(f\"Enter the amount for {name}: \"))\n",
    "                    self.add_expense(name, amount)\n",
    "                except ValueError:\n",
    "                    print(\"Please enter a valid number.\")\n",
    "\n",
    "            elif choice == '3':\n",
    "                self.view_expenses()\n",
    "\n",
    "            elif choice == '4':\n",
    "                self.view_budget()\n",
    "\n",
    "            elif choice == '5':\n",
    "                print(\"Exiting the Budget Planner application.\")\n",
    "                break\n",
    "\n",
    "            else:\n",
    "                print(\"Invalid option. Please try again.\")\n",
    "\n",
    "# Run the Budget Planner application\n",
    "if __name__ == \"__main__\":\n",
    "    planner = BudgetPlanner()\n",
    "    planner.run()\n"
   ]
  },
  {
   "cell_type": "code",
   "execution_count": null,
   "id": "acf4465a-f450-4cf3-bd96-8236059a0dd9",
   "metadata": {},
   "outputs": [],
   "source": []
  }
 ],
 "metadata": {
  "kernelspec": {
   "display_name": "Python 3 (ipykernel)",
   "language": "python",
   "name": "python3"
  },
  "language_info": {
   "codemirror_mode": {
    "name": "ipython",
    "version": 3
   },
   "file_extension": ".py",
   "mimetype": "text/x-python",
   "name": "python",
   "nbconvert_exporter": "python",
   "pygments_lexer": "ipython3",
   "version": "3.12.4"
  }
 },
 "nbformat": 4,
 "nbformat_minor": 5
}
